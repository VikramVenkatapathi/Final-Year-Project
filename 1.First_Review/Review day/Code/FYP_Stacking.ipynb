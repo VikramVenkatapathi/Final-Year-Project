{
  "nbformat": 4,
  "nbformat_minor": 0,
  "metadata": {
    "colab": {
      "name": "FYP-Stacking.ipynb",
      "provenance": [],
      "collapsed_sections": []
    },
    "kernelspec": {
      "name": "python3",
      "display_name": "Python 3"
    },
    "language_info": {
      "name": "python"
    }
  },
  "cells": [
    {
      "cell_type": "markdown",
      "source": [
        "IMPORT NEEDED LIBRARIES"
      ],
      "metadata": {
        "id": "Y-URC9dhJqJH"
      }
    },
    {
      "cell_type": "code",
      "execution_count": null,
      "metadata": {
        "id": "gYygvOIhIsxi"
      },
      "outputs": [],
      "source": [
        "from sklearn.tree import DecisionTreeClassifier\n",
        "from sklearn.ensemble import RandomForestClassifier\n",
        "from sklearn.neighbors import KNeighborsClassifier\n",
        "from sklearn.linear_model import LogisticRegression\n",
        "from sklearn.ensemble import StackingClassifier\n",
        "import xgboost\n",
        "import pandas as pd\n",
        "from sklearn.model_selection import KFold\n",
        "from sklearn.model_selection import cross_val_score\n",
        "import time\n",
        "from sklearn.model_selection import train_test_split\n",
        "from sklearn import metrics\n",
        "from sklearn.metrics import precision_recall_fscore_support\n",
        "import matplotlib.pyplot as plt\n",
        "import tensorflow as tf\n",
        "from tensorflow import keras\n",
        "from sklearn.metrics import confusion_matrix\n",
        "from sklearn.metrics import ConfusionMatrixDisplay\n",
        "from sklearn.metrics import roc_curve\n",
        "from sklearn.metrics import RocCurveDisplay\n",
        "from sklearn.metrics import precision_recall_curve\n",
        "from sklearn.metrics import PrecisionRecallDisplay"
      ]
    },
    {
      "cell_type": "markdown",
      "source": [
        "**BINARY DATASET**"
      ],
      "metadata": {
        "id": "ndd7AU0wJueT"
      }
    },
    {
      "cell_type": "markdown",
      "source": [
        "IMPORT AND READ BINARY DATASET"
      ],
      "metadata": {
        "id": "9RQO5WoBJw08"
      }
    },
    {
      "cell_type": "code",
      "source": [
        "names = ['pH','TDS','Turbidity','Phospate','Nitrate','Iron','COD(mg/L)','Chlorine','Sodium','Class']\n",
        "bdataframe = pd.read_csv(\"binary.csv\", names=names)\n",
        "array = bdataframe.values\n",
        "Xb = array[:,0:9]\n",
        "Yb = array[:,9]"
      ],
      "metadata": {
        "id": "2hSbkDXiIyqo"
      },
      "execution_count": null,
      "outputs": []
    },
    {
      "cell_type": "markdown",
      "source": [
        "SPLITTING TRAIN,TEST AND VALIDATION DATA"
      ],
      "metadata": {
        "id": "kMFScmbQKXHH"
      }
    },
    {
      "cell_type": "code",
      "source": [
        "Xb_train, Xb_test, Yb_train, Yb_test = train_test_split(Xb, Yb, test_size=0.3) \n",
        "Xb_test, Xb_val, Yb_test, Yb_val = train_test_split(Xb_test, Yb_test, test_size=0.4)"
      ],
      "metadata": {
        "id": "hxF-vSQoKVIc"
      },
      "execution_count": null,
      "outputs": []
    },
    {
      "cell_type": "markdown",
      "source": [
        "SPECIFYING BASE CLASSIFIERS"
      ],
      "metadata": {
        "id": "7mID5V-xKfhP"
      }
    },
    {
      "cell_type": "code",
      "source": [
        "dtc =  DecisionTreeClassifier()\n",
        "rfc = RandomForestClassifier()\n",
        "knn =  KNeighborsClassifier()\n",
        "xgb = xgboost.XGBClassifier()\n",
        "clf = [('dtc',dtc),('rfc',rfc),('knn',knn),('xgb',xgb)]\n",
        "lr = LogisticRegression()"
      ],
      "metadata": {
        "id": "3WJzZTuIKX0l"
      },
      "execution_count": null,
      "outputs": []
    },
    {
      "cell_type": "markdown",
      "source": [
        "CREATING AND FITTING STACKING CLASSIFIER TO MODEL"
      ],
      "metadata": {
        "id": "cHM6Ga8nKkw7"
      }
    },
    {
      "cell_type": "code",
      "source": [
        "bstart = time.time()\n",
        "stacking = StackingClassifier(estimators = clf,final_estimator = lr)\n",
        "b_stacking_model = stacking.fit(Xb_train, Yb_train)\n",
        "bend = time.time()\n",
        "# total time taken\n",
        "print(f\"Runtime of the Stacking is {bend - bstart}\")"
      ],
      "metadata": {
        "colab": {
          "base_uri": "https://localhost:8080/"
        },
        "id": "EGPcur2NKbjV",
        "outputId": "266ccad3-7e3d-4a9e-e934-ad9989820496"
      },
      "execution_count": null,
      "outputs": [
        {
          "output_type": "stream",
          "name": "stdout",
          "text": [
            "Runtime of the Stacking is 3.124774217605591\n"
          ]
        }
      ]
    },
    {
      "cell_type": "markdown",
      "source": [
        "ACCURACY"
      ],
      "metadata": {
        "id": "Wehp1nwTKqbM"
      }
    },
    {
      "cell_type": "code",
      "source": [
        "Yb_pred = b_stacking_model.predict(Xb_test)\n",
        "print(\"Accuracy on test data:\", metrics.accuracy_score(Yb_test, Yb_pred))\n",
        "Yb_val_pred = b_stacking_model.predict(Xb_val)\n",
        "print(\"Accuracy on validation data:\", metrics.accuracy_score(Yb_val, Yb_val_pred))"
      ],
      "metadata": {
        "colab": {
          "base_uri": "https://localhost:8080/"
        },
        "id": "H0S8vytNKpxZ",
        "outputId": "436c2347-3d45-45c8-8927-af61b633de59"
      },
      "execution_count": null,
      "outputs": [
        {
          "output_type": "stream",
          "name": "stdout",
          "text": [
            "Accuracy on test data: 1.0\n",
            "Accuracy on validation data: 1.0\n"
          ]
        }
      ]
    },
    {
      "cell_type": "markdown",
      "source": [
        "CONFUSION MATRIX"
      ],
      "metadata": {
        "id": "1F0uIyaPNjxl"
      }
    },
    {
      "cell_type": "code",
      "source": [
        "cm = confusion_matrix(Yb_test, Yb_pred)\n",
        "cm_display = ConfusionMatrixDisplay(cm).plot()"
      ],
      "metadata": {
        "colab": {
          "base_uri": "https://localhost:8080/",
          "height": 279
        },
        "id": "6zfqbUSwUwOI",
        "outputId": "b00eb351-88e6-493f-9d34-2d17aa0002e0"
      },
      "execution_count": null,
      "outputs": [
        {
          "output_type": "display_data",
          "data": {
            "text/plain": [
              "<Figure size 432x288 with 2 Axes>"
            ],
            "image/png": "[encoded data removed]"
          },
          "metadata": {
            "needs_background": "light"
          }
        }
      ]
    },
    {
      "cell_type": "markdown",
      "source": [
        "AUC-ROC CURVE"
      ],
      "metadata": {
        "id": "InAQFL9qWNLw"
      }
    },
    {
      "cell_type": "code",
      "source": [
        "fpr, tpr, _ = roc_curve(Yb_test, Yb_pred)\n",
        "roc_display = RocCurveDisplay(fpr=fpr, tpr=tpr).plot()"
      ],
      "metadata": {
        "colab": {
          "base_uri": "https://localhost:8080/",
          "height": 279
        },
        "id": "hXMWGPnQWMba",
        "outputId": "c6a84096-5b0d-4d35-b618-94464a56f3c1"
      },
      "execution_count": null,
      "outputs": [
        {
          "output_type": "display_data",
          "data": {
            "text/plain": [
              "<Figure size 432x288 with 1 Axes>"
            ],
            "image/png": "[encoded data removed]"
          },
          "metadata": {
            "needs_background": "light"
          }
        }
      ]
    },
    {
      "cell_type": "markdown",
      "source": [
        "PRECISION-RECALL-F1 SCORE"
      ],
      "metadata": {
        "id": "QMTAxTUULUZr"
      }
    },
    {
      "cell_type": "code",
      "source": [
        "print(\"Precision-Recall-Fscore[binary] on test data:\", precision_recall_fscore_support(Yb_test, Yb_pred, average='binary'))\n",
        "print(\"Precision-Recall-Fscore[binary] on validation data:\", precision_recall_fscore_support(Yb_val, Yb_val_pred, average='binary'))"
      ],
      "metadata": {
        "id": "PFLPVhtFLTpN",
        "colab": {
          "base_uri": "https://localhost:8080/"
        },
        "outputId": "75720f2a-3f68-414b-cf60-c501b423d4d5"
      },
      "execution_count": null,
      "outputs": [
        {
          "output_type": "stream",
          "name": "stdout",
          "text": [
            "Precision-Recall-Fscore[binary] on test data: (1.0, 1.0, 1.0, None)\n",
            "Precision-Recall-Fscore[binary] on validation data: (1.0, 1.0, 1.0, None)\n"
          ]
        }
      ]
    },
    {
      "cell_type": "markdown",
      "source": [
        "PRECISION RECALL DISPLAY"
      ],
      "metadata": {
        "id": "qKvQMiQKNniG"
      }
    },
    {
      "cell_type": "code",
      "source": [
        "prec, recall, _ = precision_recall_curve(Yb_test, Yb_pred)\n",
        "pr_display = PrecisionRecallDisplay(precision=prec, recall=recall).plot()"
      ],
      "metadata": {
        "colab": {
          "base_uri": "https://localhost:8080/",
          "height": 279
        },
        "id": "iqg73gdxXTpf",
        "outputId": "bb0fc458-9f8e-41c1-d635-d8e63e9a6a80"
      },
      "execution_count": null,
      "outputs": [
        {
          "output_type": "display_data",
          "data": {
            "text/plain": [
              "<Figure size 432x288 with 1 Axes>"
            ],
            "image/png": "[encoded data removed]"
          },
          "metadata": {
            "needs_background": "light"
          }
        }
      ]
    },
    {
      "cell_type": "markdown",
      "source": [
        "CROSS VALIDATION SCORE"
      ],
      "metadata": {
        "id": "hdhAeGlqLZ3U"
      }
    },
    {
      "cell_type": "code",
      "source": [
        "results = cross_val_score(stacking,Xb,Yb,cv = 5,scoring = 'accuracy')\n",
        "print(\"Cross validation score:\", results.mean())"
      ],
      "metadata": {
        "id": "P8JdeqOCVqZK",
        "colab": {
          "base_uri": "https://localhost:8080/"
        },
        "outputId": "1e35e7c0-361a-4186-9731-6cf7c3421234"
      },
      "execution_count": null,
      "outputs": [
        {
          "output_type": "stream",
          "name": "stdout",
          "text": [
            "Cross validation score: 0.9991999999999999\n"
          ]
        }
      ]
    },
    {
      "cell_type": "markdown",
      "source": [
        "**MULTICLASS DATASET**"
      ],
      "metadata": {
        "id": "jMOgHFC7MMzE"
      }
    },
    {
      "cell_type": "markdown",
      "source": [
        "IMPORT AND READ MULTICLASS DATASET"
      ],
      "metadata": {
        "id": "P_QjdNXkMUst"
      }
    },
    {
      "cell_type": "code",
      "source": [
        "mdataframe = pd.read_csv(\"multi.csv\", names=names)\n",
        "array = mdataframe.values\n",
        "Xm = array[:,0:9]\n",
        "Ym = array[:,9]"
      ],
      "metadata": {
        "id": "_9lhHsNkL7OJ"
      },
      "execution_count": null,
      "outputs": []
    },
    {
      "cell_type": "markdown",
      "source": [
        "SPLITTING TRAIN, TEST AND VALIDATION DATA"
      ],
      "metadata": {
        "id": "7wn--QCLMXQU"
      }
    },
    {
      "cell_type": "code",
      "source": [
        "Xm_train, Xm_test, Ym_train, Ym_test = train_test_split(Xm, Ym, test_size=0.3) \n",
        "Xm_test, Xm_val, Ym_test, Ym_val = train_test_split(Xm_test, Ym_test, test_size=0.4)"
      ],
      "metadata": {
        "id": "8FnGl6qjMX56"
      },
      "execution_count": null,
      "outputs": []
    },
    {
      "cell_type": "markdown",
      "source": [
        "CREATING AND FITTING BAGGING CLASSIFIER TO MODEL"
      ],
      "metadata": {
        "id": "T_v8z_-JMcBS"
      }
    },
    {
      "cell_type": "code",
      "source": [
        "mstart = time.time()\n",
        "m_stacking_model = stacking.fit(Xm_train, Ym_train)\n",
        "mend = time.time()\n",
        "# total time taken\n",
        "print(f\"Runtime of the Stacking is {mend - mstart}\")"
      ],
      "metadata": {
        "id": "AZCWaSZvl8sR",
        "colab": {
          "base_uri": "https://localhost:8080/"
        },
        "outputId": "d84593a9-e84f-4514-daa3-9f3c68971d7b"
      },
      "execution_count": null,
      "outputs": [
        {
          "output_type": "stream",
          "name": "stdout",
          "text": [
            "Runtime of the Stacking is 7.993763208389282\n"
          ]
        }
      ]
    },
    {
      "cell_type": "markdown",
      "source": [
        "ACCURACY"
      ],
      "metadata": {
        "id": "3LT_APj2MzRi"
      }
    },
    {
      "cell_type": "code",
      "source": [
        "Ym_pred = m_stacking_model.predict(Xm_test)\n",
        "print(\"Accuracy on test data:\", metrics.accuracy_score(Ym_test, Ym_pred))\n",
        "Ym_val_pred = m_stacking_model.predict(Xm_val)\n",
        "print(\"Accuracy on validation data:\", metrics.accuracy_score(Ym_val, Ym_val_pred))"
      ],
      "metadata": {
        "id": "S9r7N2O9Myq6",
        "colab": {
          "base_uri": "https://localhost:8080/"
        },
        "outputId": "8a4d05b5-acc8-420e-9569-6a933527b7ec"
      },
      "execution_count": null,
      "outputs": [
        {
          "output_type": "stream",
          "name": "stdout",
          "text": [
            "Accuracy on test data: 1.0\n",
            "Accuracy on validation data: 1.0\n"
          ]
        }
      ]
    },
    {
      "cell_type": "markdown",
      "source": [
        "CONFUSION MATRIX"
      ],
      "metadata": {
        "id": "V0jLeptZOZcY"
      }
    },
    {
      "cell_type": "code",
      "source": [
        "cm = confusion_matrix(Ym_test, Ym_pred)\n",
        "cm_display = ConfusionMatrixDisplay(cm).plot()"
      ],
      "metadata": {
        "colab": {
          "base_uri": "https://localhost:8080/",
          "height": 279
        },
        "id": "lhvXTwjQOYiv",
        "outputId": "b0c74ff5-94b9-41d7-da09-2d0e72a09e98"
      },
      "execution_count": null,
      "outputs": [
        {
          "output_type": "display_data",
          "data": {
            "text/plain": [
              "<Figure size 432x288 with 2 Axes>"
            ],
            "image/png": "[encoded data removed]"
          },
          "metadata": {
            "needs_background": "light"
          }
        }
      ]
    },
    {
      "cell_type": "markdown",
      "source": [
        "PRECISION-RECALL-F1 SCORE"
      ],
      "metadata": {
        "id": "c6KTZNztM6Iy"
      }
    },
    {
      "cell_type": "code",
      "source": [
        "print(\"Precision-Recall-Fscore[weighted] on test data:\", precision_recall_fscore_support(Ym_test, Ym_pred, average='weighted'))\n",
        "print(\"Precision-Recall-Fscore[weighted] on validation data:\", precision_recall_fscore_support(Ym_val, Ym_val_pred, average='weighted'))"
      ],
      "metadata": {
        "id": "PevujTIdM5mk",
        "colab": {
          "base_uri": "https://localhost:8080/"
        },
        "outputId": "9854eb6e-5270-47b7-f521-38e3e78e387e"
      },
      "execution_count": null,
      "outputs": [
        {
          "output_type": "stream",
          "name": "stdout",
          "text": [
            "Precision-Recall-Fscore[weighted] on test data: (1.0, 1.0, 1.0, None)\n",
            "Precision-Recall-Fscore[weighted] on validation data: (1.0, 1.0, 1.0, None)\n"
          ]
        }
      ]
    },
    {
      "cell_type": "markdown",
      "source": [
        "AUC-ROC CURVE"
      ],
      "metadata": {
        "id": "752aJWUYOiio"
      }
    },
    {
      "cell_type": "code",
      "source": [
        "n_class = 3\n",
        "Ym_pred_prob = m_stacking_model.predict_proba(Xm_test)\n",
        "fpr = {}\n",
        "tpr = {}\n",
        "thresh ={}\n",
        "for i in range(n_class):\n",
        "  fpr[i], tpr[i], thresh[i] = roc_curve(Ym_test, Ym_pred_prob[:,i], pos_label=i)\n",
        "plt.plot(fpr[0], tpr[0], linestyle='--',color='orange', label='Class 0 vs Rest')\n",
        "plt.title('Multiclass ROC curves - Class 0 vs Rest')\n",
        "plt.xlabel('False Positive Rate')\n",
        "plt.ylabel('True Positive rate')\n",
        "plt.legend(loc='best')\n",
        "plt.savefig('Multiclass ROC - class 0',dpi=300)"
      ],
      "metadata": {
        "colab": {
          "base_uri": "https://localhost:8080/",
          "height": 295
        },
        "id": "AGN3gbDKOh8X",
        "outputId": "1523e03d-089c-4642-c90d-34f5ca7b0b3d"
      },
      "execution_count": null,
      "outputs": [
        {
          "output_type": "display_data",
          "data": {
            "text/plain": [
              "<Figure size 432x288 with 1 Axes>"
            ],
            "image/png": "[encoded data removed]"
          },
          "metadata": {
            "needs_background": "light"
          }
        }
      ]
    },
    {
      "cell_type": "code",
      "source": [
        "plt.plot(fpr[1], tpr[1], linestyle='--',color='green', label='Class 1 vs Rest')\n",
        "plt.title('Multiclass ROC curves - Class 1 vs Rest')\n",
        "plt.xlabel('False Positive Rate')\n",
        "plt.ylabel('True Positive rate')\n",
        "plt.legend(loc='best')\n",
        "plt.savefig('Multiclass ROC - class 1',dpi=300)"
      ],
      "metadata": {
        "colab": {
          "base_uri": "https://localhost:8080/",
          "height": 295
        },
        "id": "zB3zkBSIVuq2",
        "outputId": "c0d317a0-2144-4c41-b3d4-0ef910c0e1ab"
      },
      "execution_count": null,
      "outputs": [
        {
          "output_type": "display_data",
          "data": {
            "text/plain": [
              "<Figure size 432x288 with 1 Axes>"
            ],
            "image/png": "[encoded data removed]"
          },
          "metadata": {
            "needs_background": "light"
          }
        }
      ]
    },
    {
      "cell_type": "code",
      "source": [
        "plt.plot(fpr[1], tpr[1], linestyle='--',color='blue', label='Class 2 vs Rest')\n",
        "plt.title('Multiclass ROC curves - Class 2 vs Rest')\n",
        "plt.xlabel('False Positive Rate')\n",
        "plt.ylabel('True Positive rate')\n",
        "plt.legend(loc='best')\n",
        "plt.savefig('Multiclass ROC - class 2',dpi=300)"
      ],
      "metadata": {
        "colab": {
          "base_uri": "https://localhost:8080/",
          "height": 295
        },
        "id": "kzf8Niv-WBU-",
        "outputId": "1d652c53-6708-4b28-d3f4-a928249ba58a"
      },
      "execution_count": null,
      "outputs": [
        {
          "output_type": "display_data",
          "data": {
            "text/plain": [
              "<Figure size 432x288 with 1 Axes>"
            ],
            "image/png": "[encoded data removed]"
          },
          "metadata": {
            "needs_background": "light"
          }
        }
      ]
    },
    {
      "cell_type": "markdown",
      "source": [
        "CROSS VALIDATION SCORE"
      ],
      "metadata": {
        "id": "fEL-66aNM_lS"
      }
    },
    {
      "cell_type": "code",
      "source": [
        "score = cross_val_score(stacking,Xm,Ym,cv = 5,scoring = 'accuracy')\n",
        "print(\"The accuracy score of is:\",score.mean())"
      ],
      "metadata": {
        "id": "hmihiFmIlyIi",
        "colab": {
          "base_uri": "https://localhost:8080/"
        },
        "outputId": "e3243c56-8120-4d81-ea6e-e080b654891e"
      },
      "execution_count": null,
      "outputs": [
        {
          "output_type": "stream",
          "name": "stdout",
          "text": [
            "The accuracy score of is: 1.0\n"
          ]
        }
      ]
    },
    {
      "cell_type": "markdown",
      "source": [
        "BASE MODELS ACCURACY"
      ],
      "metadata": {
        "id": "SkKBfozxWi9u"
      }
    },
    {
      "cell_type": "code",
      "source": [
        "clf1 = [dtc,rfc,knn,xgb,lr]\n",
        "clf2 = [dtc,rfc,knn,xgb]\n",
        "print(\"BINARY DATASET\")\n",
        "for algo in clf1:\n",
        "    bscore = cross_val_score( algo,Xb,Yb,cv = 5,scoring = 'accuracy')\n",
        "    print(\"The accuracy score of {} is:\".format(algo),bscore.mean())\n",
        "print(\"\\n\\n\\n\")\n",
        "print(\"MULTICLASS DATASET\")\n",
        "for algo in clf2:\n",
        "    mscore = cross_val_score( algo,Xm,Ym,cv = 5,scoring = 'accuracy')\n",
        "    print(\"The accuracy score of {} is:\".format(algo),mscore.mean())"
      ],
      "metadata": {
        "id": "vQr6o-q1J6M0",
        "colab": {
          "base_uri": "https://localhost:8080/"
        },
        "outputId": "fab9ca0b-a57f-4a6a-b18e-ba4c14fc12d3"
      },
      "execution_count": null,
      "outputs": [
        {
          "output_type": "stream",
          "name": "stdout",
          "text": [
            "BINARY DATASET\n",
            "The accuracy score of DecisionTreeClassifier() is: 0.9991999999999999\n",
            "The accuracy score of RandomForestClassifier() is: 0.9994\n",
            "The accuracy score of KNeighborsClassifier() is: 0.9260000000000002\n",
            "The accuracy score of XGBClassifier() is: 0.9997999999999999\n"
          ]
        },
        {
          "output_type": "stream",
          "name": "stderr",
          "text": [
            "/usr/local/lib/python3.7/dist-packages/sklearn/linear_model/_logistic.py:818: ConvergenceWarning: lbfgs failed to converge (status=1):\n",
            "STOP: TOTAL NO. of ITERATIONS REACHED LIMIT.\n",
            "\n",
            "Increase the number of iterations (max_iter) or scale the data as shown in:\n",
            "    https://scikit-learn.org/stable/modules/preprocessing.html\n",
            "Please also refer to the documentation for alternative solver options:\n",
            "    https://scikit-learn.org/stable/modules/linear_model.html#logistic-regression\n",
            "  extra_warning_msg=_LOGISTIC_SOLVER_CONVERGENCE_MSG,\n",
            "/usr/local/lib/python3.7/dist-packages/sklearn/linear_model/_logistic.py:818: ConvergenceWarning: lbfgs failed to converge (status=1):\n",
            "STOP: TOTAL NO. of ITERATIONS REACHED LIMIT.\n",
            "\n",
            "Increase the number of iterations (max_iter) or scale the data as shown in:\n",
            "    https://scikit-learn.org/stable/modules/preprocessing.html\n",
            "Please also refer to the documentation for alternative solver options:\n",
            "    https://scikit-learn.org/stable/modules/linear_model.html#logistic-regression\n",
            "  extra_warning_msg=_LOGISTIC_SOLVER_CONVERGENCE_MSG,\n",
            "/usr/local/lib/python3.7/dist-packages/sklearn/linear_model/_logistic.py:818: ConvergenceWarning: lbfgs failed to converge (status=1):\n",
            "STOP: TOTAL NO. of ITERATIONS REACHED LIMIT.\n",
            "\n",
            "Increase the number of iterations (max_iter) or scale the data as shown in:\n",
            "    https://scikit-learn.org/stable/modules/preprocessing.html\n",
            "Please also refer to the documentation for alternative solver options:\n",
            "    https://scikit-learn.org/stable/modules/linear_model.html#logistic-regression\n",
            "  extra_warning_msg=_LOGISTIC_SOLVER_CONVERGENCE_MSG,\n",
            "/usr/local/lib/python3.7/dist-packages/sklearn/linear_model/_logistic.py:818: ConvergenceWarning: lbfgs failed to converge (status=1):\n",
            "STOP: TOTAL NO. of ITERATIONS REACHED LIMIT.\n",
            "\n",
            "Increase the number of iterations (max_iter) or scale the data as shown in:\n",
            "    https://scikit-learn.org/stable/modules/preprocessing.html\n",
            "Please also refer to the documentation for alternative solver options:\n",
            "    https://scikit-learn.org/stable/modules/linear_model.html#logistic-regression\n",
            "  extra_warning_msg=_LOGISTIC_SOLVER_CONVERGENCE_MSG,\n",
            "/usr/local/lib/python3.7/dist-packages/sklearn/linear_model/_logistic.py:818: ConvergenceWarning: lbfgs failed to converge (status=1):\n",
            "STOP: TOTAL NO. of ITERATIONS REACHED LIMIT.\n",
            "\n",
            "Increase the number of iterations (max_iter) or scale the data as shown in:\n",
            "    https://scikit-learn.org/stable/modules/preprocessing.html\n",
            "Please also refer to the documentation for alternative solver options:\n",
            "    https://scikit-learn.org/stable/modules/linear_model.html#logistic-regression\n",
            "  extra_warning_msg=_LOGISTIC_SOLVER_CONVERGENCE_MSG,\n"
          ]
        },
        {
          "output_type": "stream",
          "name": "stdout",
          "text": [
            "The accuracy score of LogisticRegression() is: 0.8934\n",
            "\n",
            "\n",
            "\n",
            "\n",
            "MULTICLASS DATASET\n",
            "The accuracy score of DecisionTreeClassifier() is: 0.9999013806706115\n",
            "The accuracy score of RandomForestClassifier() is: 0.999802761341223\n",
            "The accuracy score of KNeighborsClassifier() is: 0.9271130176541735\n",
            "The accuracy score of XGBClassifier() is: 0.999802761341223\n"
          ]
        }
      ]
    }
  ]
}