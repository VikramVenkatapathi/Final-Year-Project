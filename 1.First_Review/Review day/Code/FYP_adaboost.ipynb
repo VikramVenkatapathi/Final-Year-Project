{
  "nbformat": 4,
  "nbformat_minor": 0,
  "metadata": {
    "colab": {
      "name": "FYP-adaboost.ipynb",
      "provenance": [],
      "collapsed_sections": []
    },
    "kernelspec": {
      "name": "python3",
      "display_name": "Python 3"
    },
    "language_info": {
      "name": "python"
    }
  },
  "cells": [
    {
      "cell_type": "markdown",
      "source": [
        "IMPORT NEEDED LIBRARIES"
      ],
      "metadata": {
        "id": "5EV9W4fI8TNj"
      }
    },
    {
      "cell_type": "code",
      "execution_count": null,
      "metadata": {
        "id": "FN3zwzbPuIAW"
      },
      "outputs": [],
      "source": [
        "from sklearn.ensemble import AdaBoostClassifier\n",
        "from sklearn import datasets\n",
        "from sklearn.model_selection import train_test_split\n",
        "from sklearn import model_selection\n",
        "from sklearn import metrics\n",
        "from sklearn.metrics import precision_recall_fscore_support\n",
        "import pandas\n",
        "import time\n",
        "from sklearn.metrics import confusion_matrix\n",
        "from sklearn.metrics import ConfusionMatrixDisplay\n",
        "from sklearn.metrics import roc_curve\n",
        "from sklearn.metrics import RocCurveDisplay\n",
        "from sklearn.metrics import precision_recall_curve\n",
        "from sklearn.metrics import PrecisionRecallDisplay\n",
        "import matplotlib.pyplot as plt"
      ]
    },
    {
      "cell_type": "markdown",
      "source": [
        "**BINARY DATASET**"
      ],
      "metadata": {
        "id": "jrqsFz6tC3QU"
      }
    },
    {
      "cell_type": "markdown",
      "source": [
        "IMPORT AND READ BINARY DATASET"
      ],
      "metadata": {
        "id": "POjq4wnewHI3"
      }
    },
    {
      "cell_type": "code",
      "source": [
        "names = ['pH','TDS','Turbidity','Phospate','Nitrate','Iron','COD(mg/L)','Chlorine','Sodium','Class']\n",
        "bdataframe = pandas.read_csv(\"binary.csv\", names=names)\n",
        "array = bdataframe.values\n",
        "Xb = array[:,0:9]\n",
        "Yb = array[:,9]"
      ],
      "metadata": {
        "id": "JMw7y5SRuUP6"
      },
      "execution_count": null,
      "outputs": []
    },
    {
      "cell_type": "markdown",
      "source": [
        "SPLITTING TRAIN, TEST AND VALIDATION DATA"
      ],
      "metadata": {
        "id": "3gh4N4p9wL71"
      }
    },
    {
      "cell_type": "code",
      "source": [
        "Xb_train, Xb_test, Yb_train, Yb_test = train_test_split(Xb, Yb, test_size=0.3) \n",
        "Xb_test, Xb_val, Yb_test, Yb_val = train_test_split(Xb_test, Yb_test, test_size=0.4)"
      ],
      "metadata": {
        "id": "oOV9I5wxukOD"
      },
      "execution_count": null,
      "outputs": []
    },
    {
      "cell_type": "markdown",
      "source": [
        "CREATING AND FITTING ADABOOST CLASSIFIER TO MODEL"
      ],
      "metadata": {
        "id": "abFL9s8wwWr-"
      }
    },
    {
      "cell_type": "code",
      "source": [
        "bstart = time.time()\n",
        "abc = AdaBoostClassifier(n_estimators=10,\n",
        "                         learning_rate=0.5)\n",
        "b_abc_model = abc.fit(Xb_train, Yb_train)\n",
        "bend = time.time()\n",
        "# total time taken\n",
        "print(f\"Runtime of the Adaboost is {bend - bstart}\")"
      ],
      "metadata": {
        "id": "fY0ZjfVFvHO2",
        "colab": {
          "base_uri": "https://localhost:8080/"
        },
        "outputId": "4fbbf323-3729-4b98-e4ac-557a37d8a3bd"
      },
      "execution_count": null,
      "outputs": [
        {
          "output_type": "stream",
          "name": "stdout",
          "text": [
            "Runtime of the Adaboost is 0.054878950119018555\n"
          ]
        }
      ]
    },
    {
      "cell_type": "markdown",
      "source": [
        "ACCURACY"
      ],
      "metadata": {
        "id": "JYPJqtBIu4AT"
      }
    },
    {
      "cell_type": "code",
      "source": [
        "Yb_pred = b_abc_model.predict(Xb_test)\n",
        "print(\"Accuracy on test data:\", metrics.accuracy_score(Yb_test, Yb_pred))\n",
        "Yb_val_pred = b_abc_model.predict(Xb_val)\n",
        "print(\"Accuracy on validation data:\", metrics.accuracy_score(Yb_val, Yb_val_pred))"
      ],
      "metadata": {
        "id": "gNRBl2NwvSXS",
        "colab": {
          "base_uri": "https://localhost:8080/"
        },
        "outputId": "b5697a74-37a1-4e92-b637-c236a9679248"
      },
      "execution_count": null,
      "outputs": [
        {
          "output_type": "stream",
          "name": "stdout",
          "text": [
            "Accuracy on test data: 1.0\n",
            "Accuracy on validation data: 1.0\n"
          ]
        }
      ]
    },
    {
      "cell_type": "markdown",
      "source": [
        "CONFUSION MATRIX"
      ],
      "metadata": {
        "id": "Ga3LEtgWiwmI"
      }
    },
    {
      "cell_type": "code",
      "source": [
        "cm = confusion_matrix(Yb_test, Yb_pred)\n",
        "cm_display = ConfusionMatrixDisplay(cm).plot()"
      ],
      "metadata": {
        "id": "09hzpcwxiwFj",
        "colab": {
          "base_uri": "https://localhost:8080/",
          "height": 279
        },
        "outputId": "6704abc5-63a7-4657-a70b-9d2ebfc85265"
      },
      "execution_count": null,
      "outputs": [
        {
          "output_type": "display_data",
          "data": {
            "text/plain": [
              "<Figure size 432x288 with 2 Axes>"
            ],
            "image/png": "[encoded data removed]"
          },
          "metadata": {
            "needs_background": "light"
          }
        }
      ]
    },
    {
      "cell_type": "markdown",
      "source": [
        "AUC-ROC CURVE"
      ],
      "metadata": {
        "id": "2WFVGUJ0i8IN"
      }
    },
    {
      "cell_type": "code",
      "source": [
        "fpr, tpr, _ = roc_curve(Yb_test, Yb_pred)\n",
        "roc_display = RocCurveDisplay(fpr=fpr, tpr=tpr).plot()"
      ],
      "metadata": {
        "id": "4z0KQpVJi9mR",
        "colab": {
          "base_uri": "https://localhost:8080/",
          "height": 279
        },
        "outputId": "5a8f982c-96c8-4b75-a318-3d5af848f8fc"
      },
      "execution_count": null,
      "outputs": [
        {
          "output_type": "display_data",
          "data": {
            "text/plain": [
              "<Figure size 432x288 with 1 Axes>"
            ],
            "image/png": "[encoded data removed]"
          },
          "metadata": {
            "needs_background": "light"
          }
        }
      ]
    },
    {
      "cell_type": "markdown",
      "source": [
        "PRECISION-RECALL-F1 SCORE"
      ],
      "metadata": {
        "id": "Covc0FXs4mnx"
      }
    },
    {
      "cell_type": "code",
      "source": [
        "print(\"Precision-Recall-Fscore[binary] on test data:\", precision_recall_fscore_support(Yb_test, Yb_pred, average='binary'))\n",
        "print(\"Precision-Recall-Fscore[binary] on validation data:\", precision_recall_fscore_support(Yb_val, Yb_val_pred, average='binary'))"
      ],
      "metadata": {
        "colab": {
          "base_uri": "https://localhost:8080/"
        },
        "id": "iupdnJIy0zT6",
        "outputId": "3c836810-de22-4987-bdcc-1d6c11ba8be1"
      },
      "execution_count": null,
      "outputs": [
        {
          "output_type": "stream",
          "name": "stdout",
          "text": [
            "Precision-Recall-Fscore[binary] on test data: (1.0, 1.0, 1.0, None)\n",
            "Precision-Recall-Fscore[binary] on validation data: (1.0, 1.0, 1.0, None)\n"
          ]
        }
      ]
    },
    {
      "cell_type": "markdown",
      "source": [
        "PRECISION RECALL DISPLAY"
      ],
      "metadata": {
        "id": "KMBwaH56jAWB"
      }
    },
    {
      "cell_type": "code",
      "source": [
        "prec, recall, _ = precision_recall_curve(Yb_test, Yb_pred)\n",
        "pr_display = PrecisionRecallDisplay(precision=prec, recall=recall).plot()"
      ],
      "metadata": {
        "id": "dfO8fFpZjCZr",
        "colab": {
          "base_uri": "https://localhost:8080/",
          "height": 279
        },
        "outputId": "a60cdb06-675d-4ff2-c5d8-a3be6ef6a4e7"
      },
      "execution_count": null,
      "outputs": [
        {
          "output_type": "display_data",
          "data": {
            "text/plain": [
              "<Figure size 432x288 with 1 Axes>"
            ],
            "image/png": "[encoded data removed]"
          },
          "metadata": {
            "needs_background": "light"
          }
        }
      ]
    },
    {
      "cell_type": "markdown",
      "source": [
        "CROSS VALIDATION SCORE"
      ],
      "metadata": {
        "id": "ijRH7PY9u-ye"
      }
    },
    {
      "cell_type": "code",
      "source": [
        "seed = 7\n",
        "kfold = model_selection.KFold(n_splits=10, random_state=seed, shuffle=True)\n",
        "results = model_selection.cross_val_score(abc, Xb, Yb, cv=kfold)\n",
        "print(\"Cross validation score:\",results.mean())"
      ],
      "metadata": {
        "colab": {
          "base_uri": "https://localhost:8080/"
        },
        "id": "okAAyiGOt5r6",
        "outputId": "1585b9b6-d0c8-479f-9344-8d24f0cd1e9b"
      },
      "execution_count": null,
      "outputs": [
        {
          "output_type": "stream",
          "name": "stdout",
          "text": [
            "Cross validation score: 0.9997999999999999\n"
          ]
        }
      ]
    },
    {
      "cell_type": "markdown",
      "source": [
        "**MULTICLASS DATASET**"
      ],
      "metadata": {
        "id": "v3drBw7ZCxkj"
      }
    },
    {
      "cell_type": "markdown",
      "source": [
        "IMPORT AND READ MULTICLASS DATASET"
      ],
      "metadata": {
        "id": "g2zwMpc0_PTw"
      }
    },
    {
      "cell_type": "code",
      "source": [
        "mdataframe = pandas.read_csv(\"multi.csv\", names=names)\n",
        "array = mdataframe.values\n",
        "Xm = array[:,0:9]\n",
        "Ym = array[:,9]"
      ],
      "metadata": {
        "id": "T6tIi3J-vfMC"
      },
      "execution_count": null,
      "outputs": []
    },
    {
      "cell_type": "markdown",
      "source": [
        "SPLITTING TRAIN, TEST AND VALIDATION DATA"
      ],
      "metadata": {
        "id": "dTd6BrZR_Xph"
      }
    },
    {
      "cell_type": "code",
      "source": [
        "Xm_train, Xm_test, Ym_train, Ym_test = train_test_split(Xm, Ym, test_size=0.3) \n",
        "Xm_test, Xm_val, Ym_test, Ym_val = train_test_split(Xm_test, Ym_test, test_size=0.4)"
      ],
      "metadata": {
        "id": "53c8g-xgvqFz"
      },
      "execution_count": null,
      "outputs": []
    },
    {
      "cell_type": "markdown",
      "source": [
        "CREATING AND FITTING ADABOOST CLASSIFIER TO MODEL"
      ],
      "metadata": {
        "id": "QU1x68pv_o0m"
      }
    },
    {
      "cell_type": "code",
      "source": [
        "mstart = time.time()\n",
        "m_abc_model = abc.fit(Xm_train, Ym_train)\n",
        "mend = time.time()\n",
        "# total time taken\n",
        "print(f\"Runtime of the Adaboost is {mend - mstart}\")"
      ],
      "metadata": {
        "id": "AwPdhKbtmz_6",
        "colab": {
          "base_uri": "https://localhost:8080/"
        },
        "outputId": "6fdf5a5a-8793-4691-96ff-dd108f14a077"
      },
      "execution_count": null,
      "outputs": [
        {
          "output_type": "stream",
          "name": "stdout",
          "text": [
            "Runtime of the Adaboost is 0.09352445602416992\n"
          ]
        }
      ]
    },
    {
      "cell_type": "markdown",
      "source": [
        "ACCURACY"
      ],
      "metadata": {
        "id": "3IUbcwBf_yR4"
      }
    },
    {
      "cell_type": "code",
      "source": [
        "Ym_pred = m_abc_model.predict(Xm_test)\n",
        "print(\"Accuracy on test data:\", metrics.accuracy_score(Ym_test, Ym_pred))\n",
        "Ym_val_pred = m_abc_model.predict(Xm_val)\n",
        "print(\"Accuracy on validation data:\", metrics.accuracy_score(Ym_val, Ym_val_pred))"
      ],
      "metadata": {
        "colab": {
          "base_uri": "https://localhost:8080/"
        },
        "id": "QSF2wNXq-fqZ",
        "outputId": "1229d291-4c6a-4bfa-bc1c-877408340fdd"
      },
      "execution_count": null,
      "outputs": [
        {
          "output_type": "stream",
          "name": "stdout",
          "text": [
            "Accuracy on test data: 1.0\n",
            "Accuracy on validation data: 1.0\n"
          ]
        }
      ]
    },
    {
      "cell_type": "markdown",
      "source": [
        "CONFUSION MATRIX"
      ],
      "metadata": {
        "id": "KnKCc_BEjOTZ"
      }
    },
    {
      "cell_type": "code",
      "source": [
        "cm = confusion_matrix(Ym_test, Ym_pred)\n",
        "cm_display = ConfusionMatrixDisplay(cm).plot()"
      ],
      "metadata": {
        "id": "2E0N0ry3jQA5",
        "colab": {
          "base_uri": "https://localhost:8080/",
          "height": 279
        },
        "outputId": "76cf7085-80fd-4512-e0cc-a122b5f21747"
      },
      "execution_count": null,
      "outputs": [
        {
          "output_type": "display_data",
          "data": {
            "text/plain": [
              "<Figure size 432x288 with 2 Axes>"
            ],
            "image/png": "[encoded data removed]"
          },
          "metadata": {
            "needs_background": "light"
          }
        }
      ]
    },
    {
      "cell_type": "markdown",
      "source": [
        "PRECISION-RECALL-F1 SCORE"
      ],
      "metadata": {
        "id": "Rv3JKeUqU936"
      }
    },
    {
      "cell_type": "code",
      "source": [
        "print(\"Precision-Recall-Fscore[weighted] on test data:\", precision_recall_fscore_support(Ym_test, Ym_pred, average='weighted'))\n",
        "print(\"Precision-Recall-Fscore[weighted] on validation data:\", precision_recall_fscore_support(Ym_val, Ym_val_pred, average='weighted'))"
      ],
      "metadata": {
        "colab": {
          "base_uri": "https://localhost:8080/"
        },
        "id": "_wFD4cqYU_55",
        "outputId": "4fe9164c-b940-4d04-890d-2007f0a94703"
      },
      "execution_count": null,
      "outputs": [
        {
          "output_type": "stream",
          "name": "stdout",
          "text": [
            "Precision-Recall-Fscore[weighted] on test data: (1.0, 1.0, 1.0, None)\n",
            "Precision-Recall-Fscore[weighted] on validation data: (1.0, 1.0, 1.0, None)\n"
          ]
        }
      ]
    },
    {
      "cell_type": "markdown",
      "source": [
        "AUC-ROC CURVE"
      ],
      "metadata": {
        "id": "u7gqrICrjU1E"
      }
    },
    {
      "cell_type": "code",
      "source": [
        "n_class = 3\n",
        "Ym_pred_prob = m_abc_model.predict_proba(Xm_test)\n",
        "fpr = {}\n",
        "tpr = {}\n",
        "thresh ={}\n",
        "for i in range(n_class):\n",
        "  fpr[i], tpr[i], thresh[i] = roc_curve(Ym_test, Ym_pred_prob[:,i], pos_label=i)\n",
        "plt.plot(fpr[0], tpr[0], linestyle='--',color='orange', label='Class 0 vs Rest')\n",
        "plt.title('Multiclass ROC curves - Class 0 vs Rest')\n",
        "plt.xlabel('False Positive Rate')\n",
        "plt.ylabel('True Positive rate')\n",
        "plt.legend(loc='best')\n",
        "plt.savefig('Multiclass ROC - class 0',dpi=300)"
      ],
      "metadata": {
        "id": "ppiYrKP9jWox",
        "colab": {
          "base_uri": "https://localhost:8080/",
          "height": 295
        },
        "outputId": "958ff0c0-cdee-46d0-c081-e38db0d473b4"
      },
      "execution_count": null,
      "outputs": [
        {
          "output_type": "display_data",
          "data": {
            "text/plain": [
              "<Figure size 432x288 with 1 Axes>"
            ],
            "image/png": "[encoded data removed]"
          },
          "metadata": {
            "needs_background": "light"
          }
        }
      ]
    },
    {
      "cell_type": "code",
      "source": [
        "plt.plot(fpr[1], tpr[1], linestyle='--',color='green', label='Class 1 vs Rest')\n",
        "plt.title('Multiclass ROC curves - Class 1 vs Rest')\n",
        "plt.xlabel('False Positive Rate')\n",
        "plt.ylabel('True Positive rate')\n",
        "plt.legend(loc='best')\n",
        "plt.savefig('Multiclass ROC - class 1',dpi=300)"
      ],
      "metadata": {
        "id": "R1t8npbPjYmu",
        "colab": {
          "base_uri": "https://localhost:8080/",
          "height": 295
        },
        "outputId": "d045ae39-d8cb-4aad-a317-025f32123068"
      },
      "execution_count": null,
      "outputs": [
        {
          "output_type": "display_data",
          "data": {
            "text/plain": [
              "<Figure size 432x288 with 1 Axes>"
            ],
            "image/png": "[encoded data removed]"
          },
          "metadata": {
            "needs_background": "light"
          }
        }
      ]
    },
    {
      "cell_type": "code",
      "source": [
        "plt.plot(fpr[1], tpr[1], linestyle='--',color='blue', label='Class 2 vs Rest')\n",
        "plt.title('Multiclass ROC curves - Class 2 vs Rest')\n",
        "plt.xlabel('False Positive Rate')\n",
        "plt.ylabel('True Positive rate')\n",
        "plt.legend(loc='best')\n",
        "plt.savefig('Multiclass ROC - class 2',dpi=300)"
      ],
      "metadata": {
        "id": "lhTygY_hjaf5",
        "colab": {
          "base_uri": "https://localhost:8080/",
          "height": 295
        },
        "outputId": "70ae1bb6-e0cc-43dd-9829-4414ea6fa256"
      },
      "execution_count": null,
      "outputs": [
        {
          "output_type": "display_data",
          "data": {
            "text/plain": [
              "<Figure size 432x288 with 1 Axes>"
            ],
            "image/png": "[encoded data removed]"
          },
          "metadata": {
            "needs_background": "light"
          }
        }
      ]
    },
    {
      "cell_type": "markdown",
      "source": [
        "CROSS VALIDATION SCORE"
      ],
      "metadata": {
        "id": "r6ozhblE_6cp"
      }
    },
    {
      "cell_type": "code",
      "source": [
        "results = model_selection.cross_val_score(abc, Xm, Ym, cv=kfold)\n",
        "print(\"Cross validation score:\",results.mean())"
      ],
      "metadata": {
        "colab": {
          "base_uri": "https://localhost:8080/"
        },
        "id": "nhDXgxqY-7M_",
        "outputId": "6788488c-fa4a-4fcd-adcd-78a8fe3df6c7"
      },
      "execution_count": null,
      "outputs": [
        {
          "output_type": "stream",
          "name": "stdout",
          "text": [
            "Cross validation score: 0.999802761341223\n"
          ]
        }
      ]
    }
  ]
}